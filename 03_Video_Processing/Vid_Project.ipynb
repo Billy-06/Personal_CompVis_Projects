{
 "cells": [
  {
   "cell_type": "code",
   "execution_count": 2,
   "metadata": {},
   "outputs": [
    {
     "ename": "ModuleNotFoundError",
     "evalue": "No module named 'cv2'",
     "output_type": "error",
     "traceback": [
      "\u001b[0;31m---------------------------------------------------------------------------\u001b[0m",
      "\u001b[0;31mModuleNotFoundError\u001b[0m                       Traceback (most recent call last)",
      "\u001b[0;32m/tmp/ipykernel_2110/1133505383.py\u001b[0m in \u001b[0;36m<module>\u001b[0;34m\u001b[0m\n\u001b[0;32m----> 1\u001b[0;31m \u001b[0;32mimport\u001b[0m \u001b[0mcv2\u001b[0m\u001b[0;34m\u001b[0m\u001b[0;34m\u001b[0m\u001b[0m\n\u001b[0m\u001b[1;32m      2\u001b[0m \u001b[0;31m# Create a function based on a CV2 Event (Left button click)\u001b[0m\u001b[0;34m\u001b[0m\u001b[0;34m\u001b[0m\u001b[0m\n\u001b[1;32m      3\u001b[0m \u001b[0;34m\u001b[0m\u001b[0m\n\u001b[1;32m      4\u001b[0m \u001b[0;31m# mouse callback function\u001b[0m\u001b[0;34m\u001b[0m\u001b[0;34m\u001b[0m\u001b[0m\n\u001b[1;32m      5\u001b[0m \u001b[0;32mdef\u001b[0m \u001b[0mdraw_circle\u001b[0m\u001b[0;34m(\u001b[0m\u001b[0mevent\u001b[0m\u001b[0;34m,\u001b[0m\u001b[0mx\u001b[0m\u001b[0;34m,\u001b[0m\u001b[0my\u001b[0m\u001b[0;34m,\u001b[0m\u001b[0mflags\u001b[0m\u001b[0;34m,\u001b[0m\u001b[0mparam\u001b[0m\u001b[0;34m)\u001b[0m\u001b[0;34m:\u001b[0m\u001b[0;34m\u001b[0m\u001b[0;34m\u001b[0m\u001b[0m\n",
      "\u001b[0;31mModuleNotFoundError\u001b[0m: No module named 'cv2'"
     ]
    }
   ],
   "source": [
    "import cv2\n",
    "# Create a function based on a CV2 Event (Left button click)\n",
    "\n",
    "# mouse callback function\n",
    "def draw_circle(event,x,y,flags,param):\n",
    "    \n",
    "    global center,clicked\n",
    "    \n",
    "    # get mouse click on down and track center\n",
    "    if event == cv2.EVENT_LBUTTONDOWN:\n",
    "        center = (x,y)\n",
    "        clicked = False\n",
    "        \n",
    "    if event ==cv2.EVENT_LBUTTONUP:\n",
    "        clicked = True\n",
    "    \n",
    "    # Use boolean variable to track if the mouse has been released\n",
    "    \n",
    "    \n",
    "    \n",
    "# Haven't drawn anything yet\n",
    "center = (0,0)\n",
    "clicked = False\n",
    "\n",
    "#Capture Video\n",
    "cap = cv2.VideoCapture(0)\n",
    "#('Camera Roll/vid_jason.mp4')\n",
    "\n",
    "# Name the window\n",
    "cv2.namedWindow('Test')\n",
    "\n",
    "# Bind Draw_circle function\n",
    "cv2.setMouseCallback('Test',draw_circle)\n",
    "\n",
    "\n",
    "while True:\n",
    "    \n",
    "    # Capture frame by frame\n",
    "    ret,frame = cap.read()\n",
    "    \n",
    "    # Use if statement to see if clicked is true\n",
    "    if clicked:\n",
    "        #Draw circle on frame\n",
    "        cv2.circle(frame,center=center,radius=50,color=(255,0,0),thickness=5)\n",
    "        \n",
    "    #Display the resulting frame\n",
    "    cv2.imshow('Test', frame)\n",
    "    \n",
    "    # This command let's us quit with \"q\" button on a keyboard\n",
    "    # Simply pressing x on the keyborad wont work!\n",
    "    if cv2.waitKey(1) & 0xFF == ord('q'):\n",
    "        break\n",
    "\n",
    "# Release capture       \n",
    "cap.release()\n",
    "cap.destroyAllWindows()\n",
    "    "
   ]
  },
  {
   "cell_type": "code",
   "execution_count": null,
   "metadata": {},
   "outputs": [],
   "source": []
  }
 ],
 "metadata": {
  "kernelspec": {
   "display_name": "Python 3 (ipykernel)",
   "language": "python",
   "name": "python3"
  },
  "language_info": {
   "codemirror_mode": {
    "name": "ipython",
    "version": 3
   },
   "file_extension": ".py",
   "mimetype": "text/x-python",
   "name": "python",
   "nbconvert_exporter": "python",
   "pygments_lexer": "ipython3",
   "version": "3.9.7"
  }
 },
 "nbformat": 4,
 "nbformat_minor": 4
}
